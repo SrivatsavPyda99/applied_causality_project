{
 "cells": [
  {
   "cell_type": "markdown",
   "metadata": {},
   "source": [
    "# Environment"
   ]
  },
  {
   "cell_type": "code",
   "execution_count": 69,
   "metadata": {},
   "outputs": [],
   "source": [
    "import numpy as np\n",
    "import csv\n",
    "import pandas\n",
    "from datetime import datetime\n",
    "import json\n",
    "import twitter\n",
    "import tweepy"
   ]
  },
  {
   "cell_type": "code",
   "execution_count": null,
   "metadata": {},
   "outputs": [],
   "source": [
    "info = dict()\n",
    "\n",
    "# Enter your own consumer_key, consumer_secret, access_key and access_secret\n",
    "\n",
    "info['CONSUMER_KEY'] = 'kzH6JHce26l6HhuMzHJWW8gDp'\n",
    "info['CONSUMER_SECRET'] = 'QLwzCe6lNG1JriDGvn7gxGgrngtyWrPsXliuPNIlx0TGT4X7Rb'\n",
    "info['ACCESS_KEY'] = '1094854919377637376-BL2OBuEtJCtQn6bzvEWcFiEzKn1pIf'\n",
    "info['ACCESS_SECRET'] = 'oznzrzp4yNto96xFbyhZs4WYlJIYr5mn2fGr42gISasbi'\n",
    "\n",
    "api = twitter.Api(consumer_key=info['CONSUMER_KEY'],\n",
    "                      consumer_secret=info['CONSUMER_SECRET'],\n",
    "                      access_token_key=info['ACCESS_KEY'],\n",
    "                      access_token_secret=info['ACCESS_SECRET'])"
   ]
  },
  {
   "cell_type": "code",
   "execution_count": 66,
   "metadata": {},
   "outputs": [],
   "source": [
    "# Variables\n",
    "\n",
    "# Dictionary mapping day distance from June 04, 2010 to business day difference from June 04, 2010\n",
    "day_list = []\n",
    "\n",
    "start_date = datetime.strptime(\"2010-07-01\", \"%Y-%m-%d\")"
   ]
  },
  {
   "cell_type": "markdown",
   "metadata": {},
   "source": [
    "# Methods"
   ]
  },
  {
   "cell_type": "code",
   "execution_count": 3,
   "metadata": {},
   "outputs": [
    {
     "ename": "SyntaxError",
     "evalue": "unexpected EOF while parsing (<ipython-input-3-5f2fd1618695>, line 2)",
     "output_type": "error",
     "traceback": [
      "\u001b[0;36m  File \u001b[0;32m\"<ipython-input-3-5f2fd1618695>\"\u001b[0;36m, line \u001b[0;32m2\u001b[0m\n\u001b[0;31m    def stamp_to_int_stocks():\u001b[0m\n\u001b[0m                              ^\u001b[0m\n\u001b[0;31mSyntaxError\u001b[0m\u001b[0;31m:\u001b[0m unexpected EOF while parsing\n"
     ]
    }
   ],
   "source": [
    "# Convert Stock Price Timestamp to in an integer representing the difference between that date and June 04, 2010\n",
    "def stamp_to_int_stocks():"
   ]
  },
  {
   "cell_type": "code",
   "execution_count": 4,
   "metadata": {},
   "outputs": [
    {
     "ename": "SyntaxError",
     "evalue": "unexpected EOF while parsing (<ipython-input-4-b40bf7fc1b70>, line 3)",
     "output_type": "error",
     "traceback": [
      "\u001b[0;36m  File \u001b[0;32m\"<ipython-input-4-b40bf7fc1b70>\"\u001b[0;36m, line \u001b[0;32m3\u001b[0m\n\u001b[0;31m    def stamp_to_int_tweets():\u001b[0m\n\u001b[0m                              ^\u001b[0m\n\u001b[0;31mSyntaxError\u001b[0m\u001b[0;31m:\u001b[0m unexpected EOF while parsing\n"
     ]
    }
   ],
   "source": [
    "# Convert Tweet Timestamp to an integer representing the day it would fall under:\n",
    "# i.e. 5 pm on May 4 - 5 pm on May 5 fall under May 5\n",
    "def stamp_to_int_tweets():"
   ]
  },
  {
   "cell_type": "code",
   "execution_count": 64,
   "metadata": {},
   "outputs": [],
   "source": [
    "# Input: empty data matrix, csv reader object containing stock price information\n",
    "# Output: data matrix containing:\n",
    "# 1) previous day #\n",
    "# 2) current day #\n",
    "# 3) closing stock price from previous day\n",
    "# 4) change in stock price leading into previous day\n",
    "# 7) change in stock price leading into current day\n",
    "\n",
    "def stocks_data_fill(data):\n",
    "    final_data = np.zeros((data.shape[0], 7))\n",
    "    i = 0\n",
    "    j = 0\n",
    "    while j < data.shape[0]:\n",
    "        current_date = datetime.strptime(data[j, 0], \"%Y-%m-%d\")\n",
    "        current_date = (current_date - start_date).days\n",
    "        \n",
    "        if current_date >= 0:\n",
    "            day_list.append(current_date)\n",
    "            final_data[i, 0] = int(data[j-1, 0].replace(\"-\",\"\"))\n",
    "            final_data[i, 1] = current_date\n",
    "            final_data[i, 2] = data[j-1, 4]\n",
    "            final_data[i, 3] = data[j-1, 4] - data[j-2, 4]\n",
    "            final_data[i, 6] = data[j, 4] - data[j-1, 4]\n",
    "            i = i + 1\n",
    "        j = j + 1\n",
    "    return final_data"
   ]
  },
  {
   "cell_type": "code",
   "execution_count": 6,
   "metadata": {},
   "outputs": [],
   "source": [
    "# Input: data matrix filled in with first 3 features, matrix containing tweet information\n",
    "# Output: data matrix containing:\n",
    "# 1) previous day #\n",
    "# 2) current day #\n",
    "# 3) closing stock price from previous day\n",
    "# 4) change in stock price leading into previous day\n",
    "# 5) Number of tweets between previous day closing time and current day closing time\n",
    "# 6) Concatonated contents of tweets between previous day closing time and current day closing time\n",
    "# 7) change in stock price leading into current day\n",
    "# Method: Iterate through twitter data and data matrix simultaneously, constructing matrix as we go\n",
    "def tweets_data_fill(data, tweets):\n",
    "    "
   ]
  },
  {
   "cell_type": "code",
   "execution_count": null,
   "metadata": {},
   "outputs": [],
   "source": [
    "def make_tweet_matrix():\n",
    "    with open('all_ids.json') as json_file:  \n",
    "        tweet_ids = json.load(json_file)\n",
    "        \n",
    "    tweets = np.zeros((len(tweet_ids), 3))\n",
    "    for tweet in tweet_ids:\n",
    "        json_tweet = tweet._json\n",
    "        tweet_time = json_tweet['created_at']\n",
    "        time_split = tweet_time.split(\" \")\n",
    "        \n",
    "        tweet_date = time_split[1] + \"-\" + time_split[2] + \"-\" + time_split[5]\n",
    "        tweet_date = datetime.strptime(tweet_date, \"%b-%d-%Y\")\n",
    "        \n",
    "        tweet_time = time_split[3]\n",
    "        #'Thu Feb 21 17:39:27 +0000 2019'\n",
    "        \n",
    "        tweets[0] = (tweet_date - start_date).days\n",
    "        tweets[1] = tweet_time\n",
    "        tweets[2] = json_tweet['text']\n",
    "        "
   ]
  },
  {
   "cell_type": "markdown",
   "metadata": {},
   "source": [
    "# Data Prep"
   ]
  },
  {
   "cell_type": "markdown",
   "metadata": {},
   "source": [
    "Format:\n",
    "\n",
    "x = {day scaled from June 4, 2010 (index); closing stock price from previous day; change in stock price from t-2 to t-1 ; Number of tweets between previous day closing time and current day closing time; Concatenated contents of tweets between previous day closing time and current day closing time}\n",
    "\n",
    "y = {change in stock price from t-1 to t}"
   ]
  },
  {
   "cell_type": "code",
   "execution_count": 67,
   "metadata": {},
   "outputs": [
    {
     "name": "stdout",
     "output_type": "stream",
     "text": [
      "(2229, 7)\n",
      "(2227, 7)\n"
     ]
    }
   ],
   "source": [
    "data_unformatted = pandas.read_csv('tesla_stock_prices.csv').as_matrix()\n",
    "data = stocks_data_fill(data_unformatted)\n",
    "print(data.shape)\n",
    "data = data[~(data==0).all(1)]\n",
    "print(data.shape)"
   ]
  },
  {
   "cell_type": "code",
   "execution_count": 70,
   "metadata": {},
   "outputs": [],
   "source": [
    "with open('all_ids.json') as json_file:  \n",
    "    data = json.load(json_file)"
   ]
  },
  {
   "cell_type": "code",
   "execution_count": 73,
   "metadata": {},
   "outputs": [
    {
     "data": {
      "text/plain": [
       "'8'"
      ]
     },
     "execution_count": 73,
     "metadata": {},
     "output_type": "execute_result"
    }
   ],
   "source": [
    "data[0]"
   ]
  },
  {
   "cell_type": "code",
   "execution_count": null,
   "metadata": {},
   "outputs": [],
   "source": []
  },
  {
   "cell_type": "code",
   "execution_count": null,
   "metadata": {},
   "outputs": [],
   "source": []
  },
  {
   "cell_type": "code",
   "execution_count": 6,
   "metadata": {},
   "outputs": [],
   "source": []
  },
  {
   "cell_type": "code",
   "execution_count": null,
   "metadata": {},
   "outputs": [],
   "source": []
  },
  {
   "cell_type": "code",
   "execution_count": null,
   "metadata": {},
   "outputs": [],
   "source": []
  },
  {
   "cell_type": "code",
   "execution_count": null,
   "metadata": {},
   "outputs": [],
   "source": []
  }
 ],
 "metadata": {
  "kernelspec": {
   "display_name": "Python 3",
   "language": "python",
   "name": "python3"
  },
  "language_info": {
   "codemirror_mode": {
    "name": "ipython",
    "version": 3
   },
   "file_extension": ".py",
   "mimetype": "text/x-python",
   "name": "python",
   "nbconvert_exporter": "python",
   "pygments_lexer": "ipython3",
   "version": "3.6.8"
  }
 },
 "nbformat": 4,
 "nbformat_minor": 2
}
