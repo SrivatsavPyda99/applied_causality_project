{
 "cells": [
  {
   "cell_type": "markdown",
   "metadata": {},
   "source": [
    "# Environment"
   ]
  },
  {
   "cell_type": "code",
   "execution_count": null,
   "metadata": {},
   "outputs": [],
   "source": [
    "import numpy as np\n",
    "import json\n",
    "from datetime import datetime\n",
    "from sklearn.linear_model import LinearRegression\n",
    "import matplotlib.pyplot as plt"
   ]
  },
  {
   "cell_type": "markdown",
   "metadata": {},
   "source": [
    "# Data Loading"
   ]
  },
  {
   "cell_type": "code",
   "execution_count": null,
   "metadata": {},
   "outputs": [],
   "source": [
    "data_path = \"../scrape/data/data_sentiment.npy\"\n",
    "dates_path = \"../scrape/data/dates.json\"\n",
    "tweets_path = \"../scrape/data/tweets.json\"\n",
    "\n",
    "data = np.load(data_path)\n",
    "\n",
    "with open(dates_path) as json_file:  \n",
    "    dates = json.load(json_file)\n",
    "    \n",
    "with open(tweets_path) as json_file:  \n",
    "    tweets = json.load(json_file)"
   ]
  },
  {
   "cell_type": "markdown",
   "metadata": {},
   "source": [
    "# Regression"
   ]
  },
  {
   "cell_type": "code",
   "execution_count": null,
   "metadata": {},
   "outputs": [],
   "source": [
    "def linear_regression_model(data):\n",
    "    model = LinearRegression().fit(data[:,0:data.shape[1]-1], data[:,data.shape[1]-1])\n",
    "    return model"
   ]
  },
  {
   "cell_type": "markdown",
   "metadata": {},
   "source": [
    "# Estimation"
   ]
  },
  {
   "cell_type": "code",
   "execution_count": null,
   "metadata": {},
   "outputs": [],
   "source": [
    "def estimation_backdoor(model, data, do_x):\n",
    "    num = 0\n",
    "    total = 0\n",
    "    \n",
    "    for i in range(len(data)):\n",
    "        if data[i, data.shape[1]-2] == do_x:\n",
    "            num = num + 1\n",
    "            total_add = model.predict(data[i, 0:data.shape[1]-1].reshape(1,-1))[0]\n",
    "            total = total + total_add\n",
    "    \n",
    "    total = total/num\n",
    "    \n",
    "    return total"
   ]
  },
  {
   "cell_type": "code",
   "execution_count": null,
   "metadata": {},
   "outputs": [],
   "source": [
    "def average_treatment_estimation_backdoor(model, data, do_x_1, do_x_2):\n",
    "    num_1 = 0\n",
    "    total_1 = 0\n",
    "    \n",
    "    num_2 = 0\n",
    "    total_2 = 0\n",
    "    \n",
    "    for i in range(len(data)):\n",
    "        if data[i, data.shape[1]-2] == do_x_1:\n",
    "            num_1 = num_1 + 1\n",
    "            total_add = model.predict(data[i, 0:data.shape[1]-1].reshape(1,-1))[0]\n",
    "            total_1 = total_1 + total_add\n",
    "            \n",
    "        if data[i, data.shape[1]-2] == do_x_2:\n",
    "            num_2 = num_2 + 1\n",
    "            total_add = model.predict(data[i, 0:data.shape[1]-1].reshape(1,-1))[0]\n",
    "            total_2 = total_2 + total_add\n",
    "    \n",
    "    total_1 = total_1/num_1\n",
    "    total_2 = total_2/num_2\n",
    "    \n",
    "    return total_2 - total_1"
   ]
  },
  {
   "cell_type": "code",
   "execution_count": null,
   "metadata": {},
   "outputs": [],
   "source": [
    "do_x_1 = 0\n",
    "do_x_2 = 2\n",
    "model = linear_regression_model(data)\n",
    "ATE_backdoor = average_treaatment_estimation_backdoor(model, data, do_x_1, do_x_2)"
   ]
  },
  {
   "cell_type": "markdown",
   "metadata": {},
   "source": [
    "# Analysis"
   ]
  },
  {
   "cell_type": "code",
   "execution_count": null,
   "metadata": {},
   "outputs": [],
   "source": [
    "do_estimates = []\n",
    "model = linear_regression_model(data)\n",
    "\n",
    "for i in range(3):\n",
    "    do_estimates.append(estimation_backdoor(model, data, i))"
   ]
  },
  {
   "cell_type": "code",
   "execution_count": null,
   "metadata": {},
   "outputs": [],
   "source": [
    "plt.plot(range(10), do_estimates)\n",
    "plt.ylabel('Expected Stock Price')\n",
    "plt.xlabel('Number of Tweets')\n",
    "plt.title(r'E[Y|do(X)]')\n",
    "plt.show()"
   ]
  }
 ],
 "metadata": {
  "kernelspec": {
   "display_name": "Python 3",
   "language": "python",
   "name": "python3"
  },
  "language_info": {
   "codemirror_mode": {
    "name": "ipython",
    "version": 3
   },
   "file_extension": ".py",
   "mimetype": "text/x-python",
   "name": "python",
   "nbconvert_exporter": "python",
   "pygments_lexer": "ipython3",
   "version": "3.6.8"
  }
 },
 "nbformat": 4,
 "nbformat_minor": 2
}
