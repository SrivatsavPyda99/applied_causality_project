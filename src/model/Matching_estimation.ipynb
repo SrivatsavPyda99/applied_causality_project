{
 "cells": [
  {
   "cell_type": "markdown",
   "metadata": {},
   "source": [
    "# Environment"
   ]
  },
  {
   "cell_type": "code",
   "execution_count": 21,
   "metadata": {},
   "outputs": [],
   "source": [
    "import numpy as np\n",
    "import json\n",
    "from datetime import datetime\n",
    "from sklearn.linear_model import LinearRegression\n",
    "import sys\n",
    "import matplotlib.pyplot as plt"
   ]
  },
  {
   "cell_type": "markdown",
   "metadata": {},
   "source": [
    "# Data Loading"
   ]
  },
  {
   "cell_type": "code",
   "execution_count": 4,
   "metadata": {},
   "outputs": [],
   "source": [
    "data_path = \"../scrape/data/data.npy\"\n",
    "dates_path = \"../scrape/data/dates.json\"\n",
    "tweets_path = \"../scrape/data/tweets.json\"\n",
    "\n",
    "data = np.load(data_path)\n",
    "\n",
    "with open(dates_path) as json_file:  \n",
    "    dates = json.load(json_file)\n",
    "    \n",
    "with open(tweets_path) as json_file:  \n",
    "    tweets = json.load(json_file)"
   ]
  },
  {
   "cell_type": "markdown",
   "metadata": {},
   "source": [
    "# Matching"
   ]
  },
  {
   "cell_type": "markdown",
   "metadata": {},
   "source": [
    "This method is, as explained in Shalizi 24, essentially just nearest neighbor regression. For each data pt x = (X=a, Z, Y), we need to find x' = (X'=b, Z', Y'), such that some notion of distance, |Z' - Z| is minimized. Then, we need to take the average of Y' - Y for each of these x, x' combos. This is an unbiased estimate of the difference, E[Y|do(X=a)] - E[Y | do(X=b)]."
   ]
  },
  {
   "cell_type": "code",
   "execution_count": 5,
   "metadata": {},
   "outputs": [],
   "source": [
    "def find_closest(data, j, do_x_2):\n",
    "    vec = data[j,:]\n",
    "    \n",
    "    smallest = sys.float_info.max\n",
    "    index = None\n",
    "    \n",
    "    for i in range(len(data)):\n",
    "        if data[i, data.shape[1]-2] == do_x_2:\n",
    "            distance = np.linalg.norm( data[i, 0:data.shape[1]-1] - vec[0:vec.shape[0]-1] )\n",
    "            if distance < smallest:\n",
    "                smallest = distance\n",
    "                index = i\n",
    "    \n",
    "    if index == None:\n",
    "        return None\n",
    "    \n",
    "    \n",
    "    return data[index, data.shape[1]-1]"
   ]
  },
  {
   "cell_type": "code",
   "execution_count": 8,
   "metadata": {},
   "outputs": [],
   "source": [
    "def average_treatment_estimation_matching(data, do_x_1, do_x_2):\n",
    "    num= 0\n",
    "    total= 0\n",
    "    \n",
    "    for i in range(len(data)):\n",
    "        if data[i, data.shape[1]-2] == do_x_1:\n",
    "            num= num + 1\n",
    "            y_1 = data[i, data.shape[1]-1]\n",
    "            total_add = find_closest(data, i, do_x_2) - y_1\n",
    "            total = total + total_add\n",
    "    \n",
    "    total = total/num\n",
    "    \n",
    "    return total"
   ]
  },
  {
   "cell_type": "markdown",
   "metadata": {},
   "source": [
    "# Testing"
   ]
  },
  {
   "cell_type": "code",
   "execution_count": 17,
   "metadata": {},
   "outputs": [],
   "source": [
    "do_x_1 = 0\n",
    "do_x_2 = 1\n",
    "\n",
    "ATE_matching = average_treatment_estimation_matching(data, do_x_1, do_x_2)"
   ]
  },
  {
   "cell_type": "code",
   "execution_count": 18,
   "metadata": {},
   "outputs": [
    {
     "data": {
      "text/plain": [
       "-0.24843698770851586"
      ]
     },
     "execution_count": 18,
     "metadata": {},
     "output_type": "execute_result"
    }
   ],
   "source": [
    "ATE_matching"
   ]
  },
  {
   "cell_type": "markdown",
   "metadata": {},
   "source": [
    "# Analysis"
   ]
  },
  {
   "cell_type": "code",
   "execution_count": 19,
   "metadata": {},
   "outputs": [],
   "source": [
    "ATE_estimates = []\n",
    "\n",
    "for i in range(1, 10):\n",
    "    ATE_estimates.append(average_treatment_estimation_matching(data, 0, i))"
   ]
  },
  {
   "cell_type": "code",
   "execution_count": 24,
   "metadata": {},
   "outputs": [
    {
     "data": {
      "image/png": "[encoded data removed]",
      "text/plain": [
       "<matplotlib.figure.Figure at 0x1a1dd70978>"
      ]
     },
     "metadata": {},
     "output_type": "display_data"
    }
   ],
   "source": [
    "plt.plot(range(1, 10), ATE_estimates)\n",
    "plt.ylabel('ATE')\n",
    "plt.xlabel('Number of Tweets')\n",
    "plt.title(r'E[Y|do(X=x)] - E[Y|do(X=0)]')\n",
    "plt.show()"
   ]
  },
  {
   "cell_type": "code",
   "execution_count": null,
   "metadata": {},
   "outputs": [],
   "source": []
  }
 ],
 "metadata": {
  "kernelspec": {
   "display_name": "Python 3",
   "language": "python",
   "name": "python3"
  },
  "language_info": {
   "codemirror_mode": {
    "name": "ipython",
    "version": 3
   },
   "file_extension": ".py",
   "mimetype": "text/x-python",
   "name": "python",
   "nbconvert_exporter": "python",
   "pygments_lexer": "ipython3",
   "version": "3.6.8"
  }
 },
 "nbformat": 4,
 "nbformat_minor": 2
}
