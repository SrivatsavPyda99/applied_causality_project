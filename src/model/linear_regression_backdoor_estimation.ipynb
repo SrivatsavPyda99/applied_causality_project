{
 "cells": [
  {
   "cell_type": "markdown",
   "metadata": {},
   "source": [
    "# Environment"
   ]
  },
  {
   "cell_type": "code",
   "execution_count": 14,
   "metadata": {},
   "outputs": [],
   "source": [
    "import numpy as np\n",
    "import json\n",
    "from datetime import datetime\n",
    "from sklearn.linear_model import LinearRegression"
   ]
  },
  {
   "cell_type": "markdown",
   "metadata": {},
   "source": [
    "# Data Loading"
   ]
  },
  {
   "cell_type": "code",
   "execution_count": 15,
   "metadata": {},
   "outputs": [],
   "source": [
    "data_path = \"../scrape/data/data.npy\"\n",
    "dates_path = \"../scrape/data/dates.json\"\n",
    "tweets_path = \"../scrape/data/tweets.json\"\n",
    "\n",
    "data = np.load(data_path)\n",
    "\n",
    "with open(dates_path) as json_file:  \n",
    "    dates = json.load(json_file)\n",
    "    \n",
    "with open(tweets_path) as json_file:  \n",
    "    tweets = json.load(json_file)"
   ]
  },
  {
   "cell_type": "markdown",
   "metadata": {},
   "source": [
    "# Estimation"
   ]
  },
  {
   "cell_type": "markdown",
   "metadata": {},
   "source": [
    "Steps:\n",
    "\n",
    "Z is our latent variable, the stock price change from t-2 to t-1. A is our causal variable, the number of times musk tweeted from t-1 to t. Y is our outcome, the stock price change from t-1 to t.\n",
    "\n",
    "1. Do linear regression to find E[Y|X=x, S=s].\n",
    "2. Use our function from #1 to calculate E[Y|do(X=x)] = $\\sum_{s}Pr(S=s)E[Y|X=x, S=s] \\approx \\frac{1}{n}\\sum_{i=1}^{n}E[Y|X=x,S=s_{i}]$."
   ]
  },
  {
   "cell_type": "markdown",
   "metadata": {},
   "source": [
    "# Regression"
   ]
  },
  {
   "cell_type": "markdown",
   "metadata": {},
   "source": [
    "## Linear Regression"
   ]
  },
  {
   "cell_type": "code",
   "execution_count": 75,
   "metadata": {},
   "outputs": [],
   "source": [
    "def linear_regression_model(data):\n",
    "    model = LinearRegression().fit(data[:,0:data.shape[1]-1], data[:,data.shape[1]-1])\n",
    "    return model"
   ]
  },
  {
   "cell_type": "code",
   "execution_count": 26,
   "metadata": {},
   "outputs": [],
   "source": [
    "model = LinearRegression().fit(data[:,0:4], data[:,4])\n",
    "r_sq = model.score(data[:,0:4], data[:,4])\n",
    "print('coefficient of determination:', r_sq)\n",
    "#y_pred = model.predict(data[:,0:4])\n",
    "#y_pred\n",
    "#np.mean(np.abs(data[:,4] - y_pred))\n",
    "#np.mean(np.abs(data[:,4]))\n",
    "#np.std(np.abs(data[:,4]))"
   ]
  },
  {
   "cell_type": "markdown",
   "metadata": {},
   "source": [
    "# Causal Estimation"
   ]
  },
  {
   "cell_type": "code",
   "execution_count": 44,
   "metadata": {},
   "outputs": [],
   "source": [
    "def average_treatment_estimation_backdoor(model, data, do_x_1, do_x_2):\n",
    "    num_1 = 0\n",
    "    total_1 = 0\n",
    "    \n",
    "    num_2 = 0\n",
    "    total_2 = 0\n",
    "    \n",
    "    for i in range(len(data)):\n",
    "        if data[i, 3] == do_x_1:\n",
    "            num_1 = num_1 + 1\n",
    "            total_1 = total_1 + data[i, 4]\n",
    "            \n",
    "        if data[i, 3] == do_x_2:\n",
    "            num_2 = num_2 + 1\n",
    "            total_2 = total_2 + data[i, 4]\n",
    "    \n",
    "    total_1 = total_1/num_1\n",
    "    total_2 = total_2/num_2\n",
    "    \n",
    "    return total_2 - total_1"
   ]
  },
  {
   "cell_type": "code",
   "execution_count": 73,
   "metadata": {},
   "outputs": [],
   "source": [
    "do_x_1 = 0\n",
    "do_x_2 = 2\n",
    "\n",
    "ATE_backdoor = average_treatment_estimation_backdoor(linear_regression_model(data), data, do_x_1, do_x_2)"
   ]
  },
  {
   "cell_type": "code",
   "execution_count": 74,
   "metadata": {},
   "outputs": [
    {
     "data": {
      "text/plain": [
       "0.5802315188659977"
      ]
     },
     "execution_count": 74,
     "metadata": {},
     "output_type": "execute_result"
    }
   ],
   "source": [
    "ATE_backdoor"
   ]
  },
  {
   "cell_type": "code",
   "execution_count": null,
   "metadata": {},
   "outputs": [],
   "source": []
  }
 ],
 "metadata": {
  "kernelspec": {
   "display_name": "Python 3",
   "language": "python",
   "name": "python3"
  },
  "language_info": {
   "codemirror_mode": {
    "name": "ipython",
    "version": 3
   },
   "file_extension": ".py",
   "mimetype": "text/x-python",
   "name": "python",
   "nbconvert_exporter": "python",
   "pygments_lexer": "ipython3",
   "version": "3.6.8"
  }
 },
 "nbformat": 4,
 "nbformat_minor": 2
}
